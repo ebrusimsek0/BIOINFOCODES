{
  "nbformat": 4,
  "nbformat_minor": 0,
  "metadata": {
    "colab": {
      "name": "Untitled4.ipynb",
      "provenance": []
    },
    "kernelspec": {
      "name": "python3",
      "display_name": "Python 3"
    },
    "language_info": {
      "name": "python"
    }
  },
  "cells": [
    {
      "cell_type": "code",
      "metadata": {
        "id": "ht0EwVJBAMFN"
      },
      "source": [
        "#fasta tabanlı dosyalar başta > işareti, dna bilgisini içeren etiket ve dna dizisini içerir. \n",
        "#NCBI veritabanından alınmıştır"
      ],
      "execution_count": null,
      "outputs": []
    },
    {
      "cell_type": "code",
      "metadata": {
        "id": "Ao-t3O40HhMx"
      },
      "source": [
        ""
      ],
      "execution_count": null,
      "outputs": []
    },
    {
      "cell_type": "code",
      "metadata": {
        "colab": {
          "base_uri": "https://localhost:8080/"
        },
        "id": "X4mHQ3yhAp85",
        "outputId": "f4d3e3c8-a1c6-4b9d-8d17-a356e9366257"
      },
      "source": [
        "#dosyadan veri alma işlemi r:read, w:write, a:append\n",
        "with open(\"ornek.fasta\", \"r\", encoding=\"utf-8\") as dosya:\n",
        "  liste=dosya.readlines() #satır satır listeye atar, her satır bir index\n",
        "print(liste)\n",
        "#kaçış dizini \\n silinmelidir\n"
      ],
      "execution_count": null,
      "outputs": [
        {
          "output_type": "stream",
          "text": [
            "['>NC_039585.1:c3275-1722 Pinus pinea voucher PINE06 plastid, complete genome\\n', 'ATGGATGAGTTCCATAGATGCGGAAAGGAAGATAGCTTTTGGCAACAATGCTTTTTATATCCACTCTTTT\\n', 'TTCAGGAAGATCTTTACGCAATTTCTCATGATCATTATTTGGATGTATCAAGTTCCTCCAGACCGATGGA\\n', 'ACATTTAAGTTCCAATGATCAGTTAAGTTTCCTAACTGTAAAACGTTTGATTGGTCAAATACGTCAACAA\\n', 'AATCATTCAATTGTTTTATTCGTGAATTGCGATCCAAATCCATATCCATTAGCTGATCGCAAGAAGAGTT\\n', 'TCTATTCTGAATCGGTACTAGAAGCACTTACATTGGTCCTGGAAGTTCCGTTCTCTATATGGTCAAAATA\\n', 'TTCTGTGGAAGGGATGAATGAATGTAAGAGTTTCCGGTCGATCCATTCAATATTTCCCTTCTTAGAGGAT\\n', 'AAATTCCCGCATTCAAATTCTATATTAGATGCACGAATACCCTATTCTATTCATCCGGAAATTTTGGTTC\\n', 'GAACCTTTCGTCGCTGGATCCGAGATGCTCCCTCCTTGCACCCATTACGATCTGTTCTCTATGACTATAG\\n', 'AAATAGTCCAGAGAATTTACAAAGATCAATTATTGTCGTCCCAAGAGTAAATACGAGATTCTTCCTGTTC\\n', 'CTGTTGAATTATTATGTCTGTGAATGCGAATCCATTTTATTTTCCCGTCTTAAACGATCCTCTCATTCAC\\n', 'GATCGTTGTCTCATGGATCTTTCCCTCAGCGAACTCATTTTCATCGAAAGATAAAACATATTATCATTTT\\n', 'TTCTCGTCGAAATTCACTGAAAACTATCTGGTCGTTGAAGGATCCTAAAATTCACTATGTTAGATATGGC\\n', 'GAAAGACCTATTATAGCTATAAAGGGTGCTCATCTCCTAGTTAAAAAATGTAGATATTATCTTCTAATTT\\n', 'TTCGGCAATTTTATTTCCATCTTTGGTCCGAACCGTATAGGGTCTGTTCTCATCAATTATCCAAGAATTG\\n', 'TTCTTCTTCTCCAGGTTATTTTTTGAGGGTTCGGATGAACCCTATTTTTGTCAGAACCAAAATGCTAGAT\\n', 'GAGTTATTCATCGCCGATCTTATTACCAATGAAATGGATCCAATAGTTCCGATTGTACCAATAATTGGAT\\n', 'TATTGGCTACAGAAAAATTCTGTGACATATCAGGGCGGCCAATTAGTAAATTGTCTTGGACCAGTCTAAC\\n', 'AGATGATGATATCCTCGATCGATTCGATCAAATTTGGAGAAATCTTTTTCATTACTACAGTGGATCCTTT\\n', 'GATCGAGATGGTTTATATCGTATAAAGTATATACTTTCATTATCATGTGCTAAAACTTTAGCCTGTAAAC\\n', 'ATAAAAGTACGATACGTGTAGTTCGGAAGGAATTAGGTCCAGAACTCTTTAAAAAATCGTTTTCAAAAGA\\n', 'ACGAGAATTTGATTCTCTGCCTTTTTCATCAAAAGCGGCGGCCCGTTCGCAGAGAGAACGAATTTGGCAT\\n', 'TCAGATATTCCCCAGATAAATCCCCTAGCTAATTCCTGGCAAAAGATACAGGATCTGAAAATAGAAAACT\\n', 'TATTTGACCAATGA']\n"
          ],
          "name": "stdout"
        }
      ]
    },
    {
      "cell_type": "code",
      "metadata": {
        "colab": {
          "base_uri": "https://localhost:8080/"
        },
        "id": "_AV5dRkKCltb",
        "outputId": "3e31d8c2-326b-4c4a-dfce-ea1074b22fad"
      },
      "source": [
        "#liste elemanlarını stringe aktarma\n",
        "dna=\"\"\n",
        "for index in liste[1:]: #etiket satırını almadık\n",
        "  dna +=index.strip(\"\\n)\") #kaçış dizini silinir\n",
        "\n",
        "print(dna)\n",
        "   \n"
      ],
      "execution_count": null,
      "outputs": [
        {
          "output_type": "stream",
          "text": [
            "ATGGATGAGTTCCATAGATGCGGAAAGGAAGATAGCTTTTGGCAACAATGCTTTTTATATCCACTCTTTTTTCAGGAAGATCTTTACGCAATTTCTCATGATCATTATTTGGATGTATCAAGTTCCTCCAGACCGATGGAACATTTAAGTTCCAATGATCAGTTAAGTTTCCTAACTGTAAAACGTTTGATTGGTCAAATACGTCAACAAAATCATTCAATTGTTTTATTCGTGAATTGCGATCCAAATCCATATCCATTAGCTGATCGCAAGAAGAGTTTCTATTCTGAATCGGTACTAGAAGCACTTACATTGGTCCTGGAAGTTCCGTTCTCTATATGGTCAAAATATTCTGTGGAAGGGATGAATGAATGTAAGAGTTTCCGGTCGATCCATTCAATATTTCCCTTCTTAGAGGATAAATTCCCGCATTCAAATTCTATATTAGATGCACGAATACCCTATTCTATTCATCCGGAAATTTTGGTTCGAACCTTTCGTCGCTGGATCCGAGATGCTCCCTCCTTGCACCCATTACGATCTGTTCTCTATGACTATAGAAATAGTCCAGAGAATTTACAAAGATCAATTATTGTCGTCCCAAGAGTAAATACGAGATTCTTCCTGTTCCTGTTGAATTATTATGTCTGTGAATGCGAATCCATTTTATTTTCCCGTCTTAAACGATCCTCTCATTCACGATCGTTGTCTCATGGATCTTTCCCTCAGCGAACTCATTTTCATCGAAAGATAAAACATATTATCATTTTTTCTCGTCGAAATTCACTGAAAACTATCTGGTCGTTGAAGGATCCTAAAATTCACTATGTTAGATATGGCGAAAGACCTATTATAGCTATAAAGGGTGCTCATCTCCTAGTTAAAAAATGTAGATATTATCTTCTAATTTTTCGGCAATTTTATTTCCATCTTTGGTCCGAACCGTATAGGGTCTGTTCTCATCAATTATCCAAGAATTGTTCTTCTTCTCCAGGTTATTTTTTGAGGGTTCGGATGAACCCTATTTTTGTCAGAACCAAAATGCTAGATGAGTTATTCATCGCCGATCTTATTACCAATGAAATGGATCCAATAGTTCCGATTGTACCAATAATTGGATTATTGGCTACAGAAAAATTCTGTGACATATCAGGGCGGCCAATTAGTAAATTGTCTTGGACCAGTCTAACAGATGATGATATCCTCGATCGATTCGATCAAATTTGGAGAAATCTTTTTCATTACTACAGTGGATCCTTTGATCGAGATGGTTTATATCGTATAAAGTATATACTTTCATTATCATGTGCTAAAACTTTAGCCTGTAAACATAAAAGTACGATACGTGTAGTTCGGAAGGAATTAGGTCCAGAACTCTTTAAAAAATCGTTTTCAAAAGAACGAGAATTTGATTCTCTGCCTTTTTCATCAAAAGCGGCGGCCCGTTCGCAGAGAGAACGAATTTGGCATTCAGATATTCCCCAGATAAATCCCCTAGCTAATTCCTGGCAAAAGATACAGGATCTGAAAATAGAAAACTTATTTGACCAATGA\n"
          ],
          "name": "stdout"
        }
      ]
    },
    {
      "cell_type": "code",
      "metadata": {
        "id": "iq3adYetDg68"
      },
      "source": [
        "#gen_code sözlüğünü dahil etme\n",
        "gencode = {  'ATA':'I', 'ATC':'I', 'ATT':'I', 'ATG':'M','ACA':'T', 'ACC':'T', 'ACG':'T',\n",
        "             'ACT':'T','AAC':'N', 'AAT':'N', 'AAA':'K', 'AAG':'K','AGC':'S', 'AGT':'S',\n",
        "             'AGA':'R', 'AGG':'R','CTA':'L', 'CTC':'L', 'CTG':'L', 'CTT':'L','CCA':'P',\n",
        "             'CCC':'P', 'CCG':'P', 'CCT':'P','CAC':'H', 'CAT':'H', 'CAA':'Q', 'CAG':'Q',\n",
        "             'CGA':'R', 'CGC':'R','CGG':'R', 'CGT':'R','GTA':'V', 'GTC':'V', 'GTG':'V',\n",
        "             'GTT':'V','GCA':'A', 'GCC':'A', 'GCG':'A', 'GCT':'A','GAC':'D', 'GAT':'D',\n",
        "             'GAA':'E', 'GAG':'E','GGA':'G', 'GGC':'G', 'GGG':'G', 'GGT':'G','TCA':'S',\n",
        "             'TCC':'S', 'TCG':'S', 'TCT':'S','TTC':'F', 'TTT':'F', 'TTA':'L', 'TTG':'L',\n",
        "             'TAC':'Y', 'TAT':'Y', 'TAA':'*', 'TAG':'*','TGC':'C', 'TGT':'C', 'TGA':'*', 'TGG':'W'}"
      ],
      "execution_count": null,
      "outputs": []
    },
    {
      "cell_type": "code",
      "metadata": {
        "colab": {
          "base_uri": "https://localhost:8080/",
          "height": 103
        },
        "id": "QsanZkWuD8Rq",
        "outputId": "4e0c9de5-e127-4057-c6e8-2722fdf87ba7"
      },
      "source": [
        "#DNA diziisini protein dizisine çevirme\n",
        "def DNAdan_proteine(dna):\n",
        "  son_kodon_baslangici = len(dna)-2 #5 nukleotid oluncada hata vermesin diye\n",
        "  protein= \"\"\n",
        "\n",
        "  for index in range(0,son_kodon_baslangici, 3): #3 er artırarak say\n",
        "    kodon=dna.upper()[index: index+3]\n",
        "    aa = gencode.get(kodon,\"aminoasit dizide bulunamadı\")\n",
        "    protein+=aa \n",
        "  return protein\n",
        "\n",
        "#geciciDna=\"ATGAT\"\n",
        "#DNAdan_proteine(geciciDna)\n",
        "\n",
        "protein=DNAdan_proteine(dna)\n",
        "DNAdan_proteine(dna)"
      ],
      "execution_count": null,
      "outputs": [
        {
          "output_type": "execute_result",
          "data": {
            "application/vnd.google.colaboratory.intrinsic+json": {
              "type": "string"
            },
            "text/plain": [
              "'MDEFHRCGKEDSFWQQCFLYPLFFQEDLYAISHDHYLDVSSSSRPMEHLSSNDQLSFLTVKRLIGQIRQQNHSIVLFVNCDPNPYPLADRKKSFYSESVLEALTLVLEVPFSIWSKYSVEGMNECKSFRSIHSIFPFLEDKFPHSNSILDARIPYSIHPEILVRTFRRWIRDAPSLHPLRSVLYDYRNSPENLQRSIIVVPRVNTRFFLFLLNYYVCECESILFSRLKRSSHSRSLSHGSFPQRTHFHRKIKHIIIFSRRNSLKTIWSLKDPKIHYVRYGERPIIAIKGAHLLVKKCRYYLLIFRQFYFHLWSEPYRVCSHQLSKNCSSSPGYFLRVRMNPIFVRTKMLDELFIADLITNEMDPIVPIVPIIGLLATEKFCDISGRPISKLSWTSLTDDDILDRFDQIWRNLFHYYSGSFDRDGLYRIKYILSLSCAKTLACKHKSTIRVVRKELGPELFKKSFSKEREFDSLPFSSKAAARSQRERIWHSDIPQINPLANSWQKIQDLKIENLFDQ*'"
            ]
          },
          "metadata": {
            "tags": []
          },
          "execution_count": 27
        }
      ]
    },
    {
      "cell_type": "code",
      "metadata": {
        "colab": {
          "base_uri": "https://localhost:8080/"
        },
        "id": "ACUbYj4nIhpu",
        "outputId": "3a9725a3-2cf0-4548-e36a-ebbb530f0951"
      },
      "source": [
        "print (len(liste[1]))\n",
        "print(liste[1].count(\"\\n\"))"
      ],
      "execution_count": null,
      "outputs": [
        {
          "output_type": "stream",
          "text": [
            "71\n",
            "1\n"
          ],
          "name": "stdout"
        }
      ]
    },
    {
      "cell_type": "code",
      "metadata": {
        "id": "KuSp_xUGGs3_"
      },
      "source": [
        "#fasta çıktısı alma\n",
        "with open(\"çikti.fasta\", \"w\", encoding=\"utf-8\") as dosya:\n",
        "  #dosya.write(\">Etiket\\n\")\n",
        "  dosya.write(liste[0])\n",
        "  #dosya.write(protein)\n",
        "  for index in range(0, len(protein),70):\n",
        "    satir=protein[index:index+70]\n",
        "    dosya.write(satir)\n",
        "    dosya.write(\"\\n\")"
      ],
      "execution_count": null,
      "outputs": []
    }
  ]
}
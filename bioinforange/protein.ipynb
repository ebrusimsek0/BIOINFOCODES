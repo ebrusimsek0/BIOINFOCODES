{
  "nbformat": 4,
  "nbformat_minor": 0,
  "metadata": {
    "colab": {
      "name": "Untitled2.ipynb",
      "provenance": []
    },
    "kernelspec": {
      "name": "python3",
      "display_name": "Python 3"
    },
    "language_info": {
      "name": "python"
    }
  },
  "cells": [
    {
      "cell_type": "code",
      "metadata": {
        "colab": {
          "base_uri": "https://localhost:8080/"
        },
        "id": "lazWGhtaqnjQ",
        "outputId": "1f64adc3-91da-4890-f7ee-3ac569731f62"
      },
      "source": [
        "protein_dizisi = \"VLMALWMRLLPLLQPALALWGPDPAAAFVNQHLCGSHLVEALYYGVCLQMRGFFYTPKTRREAEAQDVGQVELGGGPGAGSLQPLA\"\n",
        "\n",
        "print(protein_dizisi)"
      ],
      "execution_count": null,
      "outputs": [
        {
          "output_type": "stream",
          "text": [
            "VLMALWMRLLPLLQPALALWGPDPAAAFVNQHLCGSHLVEALYYGVCLQMRGFFYTPKTRREAEAQDVGQVELGGGPGAGSLQPLA\n"
          ],
          "name": "stdout"
        }
      ]
    },
    {
      "cell_type": "code",
      "metadata": {
        "colab": {
          "base_uri": "https://localhost:8080/"
        },
        "id": "-wEplemhvR5a",
        "outputId": "a32e989a-5d62-4af0-e63e-34f5126f755d"
      },
      "source": [
        "dna = \"ATGCTAGCTAGAGAGATCTCGCATCGACTAGCATCGATCATACGATCGACTAGCGCATAA\"\n",
        "print(dna)"
      ],
      "execution_count": null,
      "outputs": [
        {
          "output_type": "stream",
          "text": [
            "ATGCTAGCTAGAGAGATCTCGCATCGACTAGCATCGATCATACGATCGACTAGCGCATAA\n"
          ],
          "name": "stdout"
        }
      ]
    },
    {
      "cell_type": "code",
      "metadata": {
        "colab": {
          "base_uri": "https://localhost:8080/"
        },
        "id": "YGh8I_6Xv8TE",
        "outputId": "73c85c50-fd5a-45e3-f67b-5d693c1655fb"
      },
      "source": [
        "#sekans uzunluğu hesapla (aminoasit sayısı)\n",
        "print(len(protein_dizisi))"
      ],
      "execution_count": null,
      "outputs": [
        {
          "output_type": "stream",
          "text": [
            "86\n"
          ],
          "name": "stdout"
        }
      ]
    },
    {
      "cell_type": "code",
      "metadata": {
        "colab": {
          "base_uri": "https://localhost:8080/"
        },
        "id": "JM6zilI9wiXb",
        "outputId": "f589b322-9839-4caf-9206-3a618389df65"
      },
      "source": [
        "#sekans bulunanan aminoasitleri sayma işlemi\n",
        "print(protein_dizisi.count(\"M\"))\n",
        "print(protein_dizisi.count(\"L\"))\n",
        "print(protein_dizisi.count(\"A\"))\n",
        "print(protein_dizisi.count(\"P\"))\n",
        "print(protein_dizisi.count(\"V\"))\n",
        "print(protein_dizisi.count(\"R\"))\n",
        "print(protein_dizisi.count(\"Q\"))\n",
        "print(protein_dizisi.count(\"E\"))\n",
        "print(protein_dizisi.count(\"F\"))\n",
        "print(protein_dizisi.count(\"C\"))\n",
        "print(protein_dizisi.count(\"G\"))\n",
        "print(protein_dizisi.count(\"D\"))\n",
        "print(protein_dizisi.count(\"Y\"))"
      ],
      "execution_count": null,
      "outputs": [
        {
          "output_type": "stream",
          "text": [
            "3\n",
            "15\n",
            "11\n",
            "7\n",
            "6\n",
            "4\n",
            "6\n",
            "4\n",
            "3\n",
            "2\n",
            "10\n",
            "2\n",
            "3\n"
          ],
          "name": "stdout"
        }
      ]
    },
    {
      "cell_type": "code",
      "metadata": {
        "colab": {
          "base_uri": "https://localhost:8080/"
        },
        "id": "zRny8TQAxgo4",
        "outputId": "ef678660-c086-4e8c-e88f-99c85aaf7dee"
      },
      "source": [
        "#bütün sekansı büyük küçük harf olarak sayma işlemi\n",
        "print(protein_dizisi.lower())\n",
        "print(protein_dizisi.upper())"
      ],
      "execution_count": null,
      "outputs": [
        {
          "output_type": "stream",
          "text": [
            "vlmalwmrllpllqpalalwgpdpaaafvnqhlcgshlvealyygvclqmrgffytpktrreaeaqdvgqvelgggpgagslqpla\n",
            "VLMALWMRLLPLLQPALALWGPDPAAAFVNQHLCGSHLVEALYYGVCLQMRGFFYTPKTRREAEAQDVGQVELGGGPGAGSLQPLA\n"
          ],
          "name": "stdout"
        }
      ]
    },
    {
      "cell_type": "code",
      "metadata": {
        "colab": {
          "base_uri": "https://localhost:8080/"
        },
        "id": "zIqMuXuOx6l6",
        "outputId": "48c74ce0-71b8-4843-8688-16e74acd0b05"
      },
      "source": [
        "#indekse göre uygulamalar\n",
        "print(protein_dizisi[0])\n",
        "print(protein_dizisi[21])\n",
        "print(protein_dizisi[-1])\n",
        "print(protein_dizisi[-2])"
      ],
      "execution_count": null,
      "outputs": [
        {
          "output_type": "stream",
          "text": [
            "V\n",
            "P\n",
            "A\n",
            "L\n"
          ],
          "name": "stdout"
        }
      ]
    },
    {
      "cell_type": "code",
      "metadata": {
        "colab": {
          "base_uri": "https://localhost:8080/"
        },
        "id": "NGzlclCAzgjf",
        "outputId": "78dd9b48-ade7-4a99-b34c-e51aafa0d667"
      },
      "source": [
        "#istenilen index aralığını arama (0dan 9 a, 10 dahil değil) (10 dan sonuna, sonu dahil) (10 dan 19 a, 20 dahil değil)\n",
        "print(protein_dizisi)\n",
        "print(protein_dizisi[:10])\n",
        "print(protein_dizisi[10:])\n",
        "print(protein_dizisi[10:20])"
      ],
      "execution_count": null,
      "outputs": [
        {
          "output_type": "stream",
          "text": [
            "VLMALWMRLLPLLQPALALWGPDPAAAFVNQHLCGSHLVEALYYGVCLQMRGFFYTPKTRREAEAQDVGQVELGGGPGAGSLQPLA\n",
            "VLMALWMRLL\n",
            "PLLQPALALWGPDPAAAFVNQHLCGSHLVEALYYGVCLQMRGFFYTPKTRREAEAQDVGQVELGGGPGAGSLQPLA\n",
            "PLLQPALALW\n"
          ],
          "name": "stdout"
        }
      ]
    },
    {
      "cell_type": "code",
      "metadata": {
        "id": "0PC6JVd3yYno"
      },
      "source": [
        ""
      ],
      "execution_count": null,
      "outputs": []
    }
  ]
}
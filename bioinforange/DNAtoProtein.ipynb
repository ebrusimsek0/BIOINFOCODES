{
  "nbformat": 4,
  "nbformat_minor": 0,
  "metadata": {
    "colab": {
      "name": "Untitled3.ipynb",
      "provenance": []
    },
    "kernelspec": {
      "name": "python3",
      "display_name": "Python 3"
    },
    "language_info": {
      "name": "python"
    }
  },
  "cells": [
    {
      "cell_type": "code",
      "metadata": {
        "colab": {
          "base_uri": "https://localhost:8080/"
        },
        "id": "blUCt4el2RDl",
        "outputId": "4052e4d0-9b23-44d9-8423-6658699df80b"
      },
      "source": [
        "dna = \"ATGCTAGCTAGAGAGATCTCGCATCGACTAGCATCGATCATACGATCGACTAGCGCATAA\"\n",
        "print(dna)"
      ],
      "execution_count": null,
      "outputs": [
        {
          "output_type": "stream",
          "text": [
            "ATGCTAGCTAGAGAGATCTCGCATCGACTAGCATCGATCATACGATCGACTAGCGCATAA\n"
          ],
          "name": "stdout"
        }
      ]
    },
    {
      "cell_type": "code",
      "metadata": {
        "colab": {
          "base_uri": "https://localhost:8080/"
        },
        "id": "RDSSTJmV2mBj",
        "outputId": "19764fe6-9fda-416f-b611-924bfae134a4"
      },
      "source": [
        "#dizinin uzunluğu\n",
        "print(\"DNA dizisinin uzunluğu:\", len(dna))"
      ],
      "execution_count": null,
      "outputs": [
        {
          "output_type": "stream",
          "text": [
            "DNA dizisinin uzunluğu: 60\n"
          ],
          "name": "stdout"
        }
      ]
    },
    {
      "cell_type": "code",
      "metadata": {
        "colab": {
          "base_uri": "https://localhost:8080/"
        },
        "id": "RjwH_wd82u-8",
        "outputId": "65958923-f43c-4ddd-b872-094853e5faa9"
      },
      "source": [
        "#nükleotid sayma\n",
        "print(\"Adenin sayısı:\", dna.count(\"A\"))\n",
        "print(\"Timin sayısı:\", dna.count(\"T\"))\n",
        "print(\"Guanin sayısı:\", dna.count(\"G\"))\n",
        "print(\"Sitozin sayısı:\", dna.count(\"C\"))"
      ],
      "execution_count": null,
      "outputs": [
        {
          "output_type": "stream",
          "text": [
            "Adenin sayısı: 19\n",
            "Timin sayısı: 13\n",
            "Guanin sayısı: 13\n",
            "Sitozin sayısı: 15\n"
          ],
          "name": "stdout"
        }
      ]
    },
    {
      "cell_type": "code",
      "metadata": {
        "colab": {
          "base_uri": "https://localhost:8080/"
        },
        "id": "c7HUdlm-3vg8",
        "outputId": "5fc78097-947e-43bc-e697-e63ef221d52a"
      },
      "source": [
        "#DNA dizisini RNA dizisine çevirme\n",
        "print(\"RNA:\",dna.replace(\"T\",\"U\") )"
      ],
      "execution_count": null,
      "outputs": [
        {
          "output_type": "stream",
          "text": [
            "RNA: AUGCUAGCUAGAGAGAUCUCGCAUCGACUAGCAUCGAUCAUACGAUCGACUAGCGCAUAA\n"
          ],
          "name": "stdout"
        }
      ]
    },
    {
      "cell_type": "code",
      "metadata": {
        "colab": {
          "base_uri": "https://localhost:8080/"
        },
        "id": "EjXjGrRa4WQR",
        "outputId": "fb12dfcf-07b7-4179-a136-08f21db3f045"
      },
      "source": [
        "#GC oranı hesaplama\n",
        "GC_oran=((dna.count(\"G\")+ dna.count(\"C\"))/ len(dna))\n",
        "print(\"GC oranı:\" , GC_oran)"
      ],
      "execution_count": null,
      "outputs": [
        {
          "output_type": "stream",
          "text": [
            "GC oranı: 0.4666666666666667\n"
          ],
          "name": "stdout"
        }
      ]
    },
    {
      "cell_type": "code",
      "metadata": {
        "colab": {
          "base_uri": "https://localhost:8080/"
        },
        "id": "VZyWaOP85RYx",
        "outputId": "556a5f5f-ece3-4507-e0a8-258f8e1cbfcf"
      },
      "source": [
        "#motif sayma\n",
        "motif=\"ATG\"\n",
        "if motif in dna:\n",
        "  print(\"Girilen motif DNA da \", dna.count(motif), \" tane vardır\")\n",
        "else:\n",
        "  print(\"Girilen motif bulunamadı\")"
      ],
      "execution_count": null,
      "outputs": [
        {
          "output_type": "stream",
          "text": [
            "Girilen motif DNA da  1  tane vardır\n"
          ],
          "name": "stdout"
        }
      ]
    },
    {
      "cell_type": "code",
      "metadata": {
        "colab": {
          "base_uri": "https://localhost:8080/"
        },
        "id": "lPta-lKs6h83",
        "outputId": "57ff66d0-fdb2-44ee-c2c7-31e7657ad9a6"
      },
      "source": [
        "#motif sayma\n",
        "motif=\"AGCTATCAGC\"\n",
        "if motif in dna:\n",
        "  print(\"Girilen motif DNA da \", dna.count(motif), \" tane vardır\")\n",
        "else:\n",
        "  print(\"Girilen motif bulunamadı\")"
      ],
      "execution_count": null,
      "outputs": [
        {
          "output_type": "stream",
          "text": [
            "Girilen motif bulunamadı\n"
          ],
          "name": "stdout"
        }
      ]
    },
    {
      "cell_type": "code",
      "metadata": {
        "colab": {
          "base_uri": "https://localhost:8080/"
        },
        "id": "bvwV0S2F600Q",
        "outputId": "64e343ed-124b-4778-8324-5b216d3188c0"
      },
      "source": [
        "#reverse complement  ters tamamlayıcı\n",
        "print(dna)\n",
        "print(reverse_complement)\n",
        "reverse_complement=dna[::-1] #diziyi tersten gez  sondan başa\n",
        "for nukleotid in reverse_complement:\n",
        "  if nukleotid==\"A\":\n",
        "    print(\"T\",end=\"\")  #yanyana yazsın diye\n",
        "  elif nukleotid==\"T\":\n",
        "    print(\"A\",end=\"\")\n",
        "  elif nukleotid==\"G\":\n",
        "    print(\"C\",end=\"\")\n",
        "  elif nukleotid==\"C\":\n",
        "    print(\"G\",end=\"\")"
      ],
      "execution_count": null,
      "outputs": [
        {
          "output_type": "stream",
          "text": [
            "ATGCTAGCTAGAGAGATCTCGCATCGACTAGCATCGATCATACGATCGACTAGCGCATAA\n",
            "AATACGCGATCAGCTAGCATACTAGCTACGATCAGCTACGCTCTAGAGAGATCGATCGTA\n",
            "TTATGCGCTAGTCGATCGTATGATCGATGCTAGTCGATGCGAGATCTCTCTAGCTAGCAT"
          ],
          "name": "stdout"
        }
      ]
    },
    {
      "cell_type": "code",
      "metadata": {
        "colab": {
          "base_uri": "https://localhost:8080/"
        },
        "id": "MC2OvUBu8yki",
        "outputId": "90ee9bcc-a80b-4409-a236-0832317804c5"
      },
      "source": [
        "#DNA yı üçlü kodonlara ayırma uygulaması\n",
        "def dna_uclu_kodon(dna):  #fonksiyon\n",
        "  kodon_list=[]  #boş liste\n",
        "  for i in range(0, len(dna),3): #uzunluğuna göre 3 lü böl\n",
        "    kodon_list.append(dna[i:i+3]) #3 lü 3 lü bölerken listeye ekleme\n",
        "  return kodon_list #kodon listi dönder\n",
        "print(dna_uclu_kodon(\"ATGCTAGCTAGAGAGATCTCGCATCGACTAGCATCGATCATACGATCGACTAGCGCATAA\"))"
      ],
      "execution_count": null,
      "outputs": [
        {
          "output_type": "stream",
          "text": [
            "['ATG', 'CTA', 'GCT', 'AGA', 'GAG', 'ATC', 'TCG', 'CAT', 'CGA', 'CTA', 'GCA', 'TCG', 'ATC', 'ATA', 'CGA', 'TCG', 'ACT', 'AGC', 'GCA', 'TAA']\n"
          ],
          "name": "stdout"
        }
      ]
    }
  ]
}